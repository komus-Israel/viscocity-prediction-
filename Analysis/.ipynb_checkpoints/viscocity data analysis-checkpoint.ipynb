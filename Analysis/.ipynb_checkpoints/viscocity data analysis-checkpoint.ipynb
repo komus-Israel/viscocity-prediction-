{
 "cells": [
  {
   "cell_type": "code",
   "execution_count": 2,
   "metadata": {},
   "outputs": [],
   "source": [
    "import pandas as pd\n",
    "import seaborn as sns\n",
    "import matplotlib.pyplot as plt\n",
    "\n",
    "sns.set()"
   ]
  },
  {
   "cell_type": "markdown",
   "metadata": {},
   "source": [
    "This is a data analysis of the dataset that contains datapoints of measured viscocity of polymer.\n",
    "\n",
    "Viscocity is an object resistance to flow."
   ]
  },
  {
   "cell_type": "markdown",
   "metadata": {},
   "source": [
    "Read the dataset"
   ]
  },
  {
   "cell_type": "code",
   "execution_count": 3,
   "metadata": {},
   "outputs": [
    {
     "data": {
      "text/html": [
       "<div>\n",
       "<style scoped>\n",
       "    .dataframe tbody tr th:only-of-type {\n",
       "        vertical-align: middle;\n",
       "    }\n",
       "\n",
       "    .dataframe tbody tr th {\n",
       "        vertical-align: top;\n",
       "    }\n",
       "\n",
       "    .dataframe thead th {\n",
       "        text-align: right;\n",
       "    }\n",
       "</style>\n",
       "<table border=\"1\" class=\"dataframe\">\n",
       "  <thead>\n",
       "    <tr style=\"text-align: right;\">\n",
       "      <th></th>\n",
       "      <th>log(shear rate) in s^-1</th>\n",
       "      <th>Polymer conc(wt%)</th>\n",
       "      <th>NaCl concentration(wt%)</th>\n",
       "      <th>Ca+2 concentration(wt%)</th>\n",
       "      <th>Temperature(in celsius)</th>\n",
       "      <th>log(viscosity) in cP</th>\n",
       "    </tr>\n",
       "  </thead>\n",
       "  <tbody>\n",
       "    <tr>\n",
       "      <th>267</th>\n",
       "      <td>0.021176</td>\n",
       "      <td>0.30</td>\n",
       "      <td>0.1</td>\n",
       "      <td>0.1</td>\n",
       "      <td>25</td>\n",
       "      <td>17.86110</td>\n",
       "    </tr>\n",
       "    <tr>\n",
       "      <th>100</th>\n",
       "      <td>0.043940</td>\n",
       "      <td>0.05</td>\n",
       "      <td>1.0</td>\n",
       "      <td>0.0</td>\n",
       "      <td>25</td>\n",
       "      <td>4.20864</td>\n",
       "    </tr>\n",
       "    <tr>\n",
       "      <th>219</th>\n",
       "      <td>9.968960</td>\n",
       "      <td>0.20</td>\n",
       "      <td>2.0</td>\n",
       "      <td>0.0</td>\n",
       "      <td>25</td>\n",
       "      <td>19.64410</td>\n",
       "    </tr>\n",
       "    <tr>\n",
       "      <th>150</th>\n",
       "      <td>21.696100</td>\n",
       "      <td>0.10</td>\n",
       "      <td>4.0</td>\n",
       "      <td>0.0</td>\n",
       "      <td>25</td>\n",
       "      <td>4.87234</td>\n",
       "    </tr>\n",
       "    <tr>\n",
       "      <th>247</th>\n",
       "      <td>10.249600</td>\n",
       "      <td>0.30</td>\n",
       "      <td>2.0</td>\n",
       "      <td>0.0</td>\n",
       "      <td>25</td>\n",
       "      <td>42.07850</td>\n",
       "    </tr>\n",
       "  </tbody>\n",
       "</table>\n",
       "</div>"
      ],
      "text/plain": [
       "     log(shear rate) in s^-1  Polymer conc(wt%)  NaCl concentration(wt%)  \\\n",
       "267                 0.021176               0.30                      0.1   \n",
       "100                 0.043940               0.05                      1.0   \n",
       "219                 9.968960               0.20                      2.0   \n",
       "150                21.696100               0.10                      4.0   \n",
       "247                10.249600               0.30                      2.0   \n",
       "\n",
       "     Ca+2 concentration(wt%)  Temperature(in celsius)  log(viscosity) in cP  \n",
       "267                      0.1                       25              17.86110  \n",
       "100                      0.0                       25               4.20864  \n",
       "219                      0.0                       25              19.64410  \n",
       "150                      0.0                       25               4.87234  \n",
       "247                      0.0                       25              42.07850  "
      ]
     },
     "execution_count": 3,
     "metadata": {},
     "output_type": "execute_result"
    }
   ],
   "source": [
    "data = pd.read_csv(\"../dataset/polymer.csv\")\n",
    "data.sample(5)"
   ]
  },
  {
   "cell_type": "markdown",
   "metadata": {},
   "source": [
    "Descriptive statistics of the data"
   ]
  },
  {
   "cell_type": "code",
   "execution_count": 4,
   "metadata": {},
   "outputs": [
    {
     "data": {
      "text/html": [
       "<div>\n",
       "<style scoped>\n",
       "    .dataframe tbody tr th:only-of-type {\n",
       "        vertical-align: middle;\n",
       "    }\n",
       "\n",
       "    .dataframe tbody tr th {\n",
       "        vertical-align: top;\n",
       "    }\n",
       "\n",
       "    .dataframe thead th {\n",
       "        text-align: right;\n",
       "    }\n",
       "</style>\n",
       "<table border=\"1\" class=\"dataframe\">\n",
       "  <thead>\n",
       "    <tr style=\"text-align: right;\">\n",
       "      <th></th>\n",
       "      <th>log(shear rate) in s^-1</th>\n",
       "      <th>Polymer conc(wt%)</th>\n",
       "      <th>NaCl concentration(wt%)</th>\n",
       "      <th>Ca+2 concentration(wt%)</th>\n",
       "      <th>Temperature(in celsius)</th>\n",
       "      <th>log(viscosity) in cP</th>\n",
       "    </tr>\n",
       "  </thead>\n",
       "  <tbody>\n",
       "    <tr>\n",
       "      <th>count</th>\n",
       "      <td>420.000000</td>\n",
       "      <td>420.000000</td>\n",
       "      <td>420.000000</td>\n",
       "      <td>420.000000</td>\n",
       "      <td>420.000000</td>\n",
       "      <td>420.000000</td>\n",
       "    </tr>\n",
       "    <tr>\n",
       "      <th>mean</th>\n",
       "      <td>16.241228</td>\n",
       "      <td>0.215000</td>\n",
       "      <td>1.540000</td>\n",
       "      <td>0.030000</td>\n",
       "      <td>29.500000</td>\n",
       "      <td>72.906273</td>\n",
       "    </tr>\n",
       "    <tr>\n",
       "      <th>std</th>\n",
       "      <td>29.263016</td>\n",
       "      <td>0.091533</td>\n",
       "      <td>1.458583</td>\n",
       "      <td>0.051051</td>\n",
       "      <td>14.471188</td>\n",
       "      <td>253.742485</td>\n",
       "    </tr>\n",
       "    <tr>\n",
       "      <th>min</th>\n",
       "      <td>0.009600</td>\n",
       "      <td>0.050000</td>\n",
       "      <td>0.100000</td>\n",
       "      <td>0.000000</td>\n",
       "      <td>25.000000</td>\n",
       "      <td>2.499480</td>\n",
       "    </tr>\n",
       "    <tr>\n",
       "      <th>25%</th>\n",
       "      <td>0.098586</td>\n",
       "      <td>0.100000</td>\n",
       "      <td>0.500000</td>\n",
       "      <td>0.000000</td>\n",
       "      <td>25.000000</td>\n",
       "      <td>11.713900</td>\n",
       "    </tr>\n",
       "    <tr>\n",
       "      <th>50%</th>\n",
       "      <td>1.033080</td>\n",
       "      <td>0.200000</td>\n",
       "      <td>1.000000</td>\n",
       "      <td>0.000000</td>\n",
       "      <td>25.000000</td>\n",
       "      <td>19.131950</td>\n",
       "    </tr>\n",
       "    <tr>\n",
       "      <th>75%</th>\n",
       "      <td>20.729975</td>\n",
       "      <td>0.300000</td>\n",
       "      <td>2.000000</td>\n",
       "      <td>0.050000</td>\n",
       "      <td>25.000000</td>\n",
       "      <td>34.071800</td>\n",
       "    </tr>\n",
       "    <tr>\n",
       "      <th>max</th>\n",
       "      <td>111.690000</td>\n",
       "      <td>0.300000</td>\n",
       "      <td>4.000000</td>\n",
       "      <td>0.150000</td>\n",
       "      <td>90.000000</td>\n",
       "      <td>2309.560000</td>\n",
       "    </tr>\n",
       "  </tbody>\n",
       "</table>\n",
       "</div>"
      ],
      "text/plain": [
       "       log(shear rate) in s^-1  Polymer conc(wt%)  NaCl concentration(wt%)  \\\n",
       "count               420.000000         420.000000               420.000000   \n",
       "mean                 16.241228           0.215000                 1.540000   \n",
       "std                  29.263016           0.091533                 1.458583   \n",
       "min                   0.009600           0.050000                 0.100000   \n",
       "25%                   0.098586           0.100000                 0.500000   \n",
       "50%                   1.033080           0.200000                 1.000000   \n",
       "75%                  20.729975           0.300000                 2.000000   \n",
       "max                 111.690000           0.300000                 4.000000   \n",
       "\n",
       "       Ca+2 concentration(wt%)  Temperature(in celsius)  log(viscosity) in cP  \n",
       "count               420.000000               420.000000            420.000000  \n",
       "mean                  0.030000                29.500000             72.906273  \n",
       "std                   0.051051                14.471188            253.742485  \n",
       "min                   0.000000                25.000000              2.499480  \n",
       "25%                   0.000000                25.000000             11.713900  \n",
       "50%                   0.000000                25.000000             19.131950  \n",
       "75%                   0.050000                25.000000             34.071800  \n",
       "max                   0.150000                90.000000           2309.560000  "
      ]
     },
     "execution_count": 4,
     "metadata": {},
     "output_type": "execute_result"
    }
   ],
   "source": [
    "data.describe()"
   ]
  },
  {
   "cell_type": "code",
   "execution_count": 5,
   "metadata": {},
   "outputs": [
    {
     "data": {
      "text/plain": [
       "(420, 6)"
      ]
     },
     "execution_count": 5,
     "metadata": {},
     "output_type": "execute_result"
    }
   ],
   "source": [
    "data.shape"
   ]
  },
  {
   "cell_type": "markdown",
   "metadata": {},
   "source": [
    "1. We have 420 datapoints\n",
    "2. The data contains some outliers\n",
    "3. The viscocity is centered around 72.9 and the spread of the viscocity is around 253.74"
   ]
  },
  {
   "cell_type": "markdown",
   "metadata": {},
   "source": [
    "### What information can we derive from the relationship between the columns in the data"
   ]
  },
  {
   "cell_type": "markdown",
   "metadata": {},
   "source": [
    "**1. Temparature And Viscocity**"
   ]
  },
  {
   "cell_type": "code",
   "execution_count": 10,
   "metadata": {},
   "outputs": [
    {
     "data": {
      "text/plain": [
       "<matplotlib.axes._subplots.AxesSubplot at 0x7fc56dd0a128>"
      ]
     },
     "execution_count": 10,
     "metadata": {},
     "output_type": "execute_result"
    },
    {
     "data": {
      "image/png": "[encoded data removed]",
      "text/plain": [
       "<Figure size 432x288 with 1 Axes>"
      ]
     },
     "metadata": {
      "needs_background": "light"
     },
     "output_type": "display_data"
    }
   ],
   "source": [
    "sns.scatterplot(x = 'Temperature(in celsius)', y = 'log(viscosity) in cP', data = data, size = 'log(viscosity) in cP')"
   ]
  },
  {
   "cell_type": "code",
   "execution_count": 27,
   "metadata": {},
   "outputs": [
    {
     "data": {
      "text/plain": [
       "<matplotlib.axes._subplots.AxesSubplot at 0x7fc56c951908>"
      ]
     },
     "execution_count": 27,
     "metadata": {},
     "output_type": "execute_result"
    },
    {
     "data": {
      "image/png": "[encoded data removed]",
      "text/plain": [
       "<Figure size 432x288 with 1 Axes>"
      ]
     },
     "metadata": {
      "needs_background": "light"
     },
     "output_type": "display_data"
    }
   ],
   "source": [
    "sns.countplot(data['Temperature(in celsius)'])"
   ]
  },
  {
   "cell_type": "markdown",
   "metadata": {},
   "source": [
    "1. From the two visualizations above and the value counts of the temparature, more observations were recorded for 25 degree celcius. From the descriptive statisics, our data is centered around 29 degree celcius, which is the mean of the temperature of the recorded observations.\n",
    "\n",
    "2. from the first vsualization, for the observations that were recorded for 25 degree celcius, the viscocity of the observaions are high."
   ]
  },
  {
   "cell_type": "markdown",
   "metadata": {},
   "source": [
    "We might not have enough observations for the other temparature to proof the relatonship between viscocity and temparature, however, the observations for these temparature are low viscocity.\n",
    "\n",
    "**Viscocity increases with decreasing temparature. And we have this relationship displayed by our visualization**"
   ]
  },
  {
   "cell_type": "markdown",
   "metadata": {},
   "source": [
    "### Why do we have high and low viscocities for 25 degree celcius ?"
   ]
  },
  {
   "cell_type": "code",
   "execution_count": 11,
   "metadata": {},
   "outputs": [],
   "source": [
    "df_temp_25 = data[data['Temperature(in celsius)'] == 25]"
   ]
  },
  {
   "cell_type": "code",
   "execution_count": 13,
   "metadata": {},
   "outputs": [
    {
     "data": {
      "text/html": [
       "<div>\n",
       "<style scoped>\n",
       "    .dataframe tbody tr th:only-of-type {\n",
       "        vertical-align: middle;\n",
       "    }\n",
       "\n",
       "    .dataframe tbody tr th {\n",
       "        vertical-align: top;\n",
       "    }\n",
       "\n",
       "    .dataframe thead th {\n",
       "        text-align: right;\n",
       "    }\n",
       "</style>\n",
       "<table border=\"1\" class=\"dataframe\">\n",
       "  <thead>\n",
       "    <tr style=\"text-align: right;\">\n",
       "      <th></th>\n",
       "      <th>log(shear rate) in s^-1</th>\n",
       "      <th>Polymer conc(wt%)</th>\n",
       "      <th>NaCl concentration(wt%)</th>\n",
       "      <th>Ca+2 concentration(wt%)</th>\n",
       "      <th>Temperature(in celsius)</th>\n",
       "      <th>log(viscosity) in cP</th>\n",
       "    </tr>\n",
       "  </thead>\n",
       "  <tbody>\n",
       "    <tr>\n",
       "      <th>count</th>\n",
       "      <td>378.000000</td>\n",
       "      <td>378.000000</td>\n",
       "      <td>378.000000</td>\n",
       "      <td>378.000000</td>\n",
       "      <td>378.0</td>\n",
       "      <td>378.000000</td>\n",
       "    </tr>\n",
       "    <tr>\n",
       "      <th>mean</th>\n",
       "      <td>16.547317</td>\n",
       "      <td>0.216667</td>\n",
       "      <td>1.600000</td>\n",
       "      <td>0.033333</td>\n",
       "      <td>25.0</td>\n",
       "      <td>79.261376</td>\n",
       "    </tr>\n",
       "    <tr>\n",
       "      <th>std</th>\n",
       "      <td>29.650860</td>\n",
       "      <td>0.096353</td>\n",
       "      <td>1.525904</td>\n",
       "      <td>0.052774</td>\n",
       "      <td>0.0</td>\n",
       "      <td>266.738831</td>\n",
       "    </tr>\n",
       "    <tr>\n",
       "      <th>min</th>\n",
       "      <td>0.009600</td>\n",
       "      <td>0.050000</td>\n",
       "      <td>0.100000</td>\n",
       "      <td>0.000000</td>\n",
       "      <td>25.0</td>\n",
       "      <td>2.499480</td>\n",
       "    </tr>\n",
       "    <tr>\n",
       "      <th>25%</th>\n",
       "      <td>0.099593</td>\n",
       "      <td>0.100000</td>\n",
       "      <td>0.100000</td>\n",
       "      <td>0.000000</td>\n",
       "      <td>25.0</td>\n",
       "      <td>11.713900</td>\n",
       "    </tr>\n",
       "    <tr>\n",
       "      <th>50%</th>\n",
       "      <td>1.037525</td>\n",
       "      <td>0.300000</td>\n",
       "      <td>1.000000</td>\n",
       "      <td>0.000000</td>\n",
       "      <td>25.0</td>\n",
       "      <td>20.076100</td>\n",
       "    </tr>\n",
       "    <tr>\n",
       "      <th>75%</th>\n",
       "      <td>20.945200</td>\n",
       "      <td>0.300000</td>\n",
       "      <td>4.000000</td>\n",
       "      <td>0.050000</td>\n",
       "      <td>25.0</td>\n",
       "      <td>39.385875</td>\n",
       "    </tr>\n",
       "    <tr>\n",
       "      <th>max</th>\n",
       "      <td>111.690000</td>\n",
       "      <td>0.300000</td>\n",
       "      <td>4.000000</td>\n",
       "      <td>0.150000</td>\n",
       "      <td>25.0</td>\n",
       "      <td>2309.560000</td>\n",
       "    </tr>\n",
       "  </tbody>\n",
       "</table>\n",
       "</div>"
      ],
      "text/plain": [
       "       log(shear rate) in s^-1  Polymer conc(wt%)  NaCl concentration(wt%)  \\\n",
       "count               378.000000         378.000000               378.000000   \n",
       "mean                 16.547317           0.216667                 1.600000   \n",
       "std                  29.650860           0.096353                 1.525904   \n",
       "min                   0.009600           0.050000                 0.100000   \n",
       "25%                   0.099593           0.100000                 0.100000   \n",
       "50%                   1.037525           0.300000                 1.000000   \n",
       "75%                  20.945200           0.300000                 4.000000   \n",
       "max                 111.690000           0.300000                 4.000000   \n",
       "\n",
       "       Ca+2 concentration(wt%)  Temperature(in celsius)  log(viscosity) in cP  \n",
       "count               378.000000                    378.0            378.000000  \n",
       "mean                  0.033333                     25.0             79.261376  \n",
       "std                   0.052774                      0.0            266.738831  \n",
       "min                   0.000000                     25.0              2.499480  \n",
       "25%                   0.000000                     25.0             11.713900  \n",
       "50%                   0.000000                     25.0             20.076100  \n",
       "75%                   0.050000                     25.0             39.385875  \n",
       "max                   0.150000                     25.0           2309.560000  "
      ]
     },
     "execution_count": 13,
     "metadata": {},
     "output_type": "execute_result"
    }
   ],
   "source": [
    "df_temp_25.describe()"
   ]
  },
  {
   "cell_type": "markdown",
   "metadata": {},
   "source": [
    "For 25 degree celcius, the viscocity of the recorded observation is centered on 79 with a spread of 266.99\n",
    "\n",
    "The minimum viscocity is 2.499 while the maximum is 2309. Let's consider other relationships"
   ]
  },
  {
   "cell_type": "code",
   "execution_count": 18,
   "metadata": {},
   "outputs": [
    {
     "data": {
      "text/plain": [
       "<matplotlib.axes._subplots.AxesSubplot at 0x7fc56d0fb518>"
      ]
     },
     "execution_count": 18,
     "metadata": {},
     "output_type": "execute_result"
    },
    {
     "data": {
      "image/png": "[encoded data removed]",
      "text/plain": [
       "<Figure size 432x288 with 1 Axes>"
      ]
     },
     "metadata": {
      "needs_background": "light"
     },
     "output_type": "display_data"
    }
   ],
   "source": [
    "sns.scatterplot(x = 'log(shear rate) in s^-1', y = 'log(viscosity) in cP', data = df_temp_25, size = 'log(viscosity) in cP')"
   ]
  },
  {
   "cell_type": "code",
   "execution_count": 24,
   "metadata": {},
   "outputs": [
    {
     "data": {
      "text/plain": [
       "<seaborn.axisgrid.JointGrid at 0x7fc56d038358>"
      ]
     },
     "execution_count": 24,
     "metadata": {},
     "output_type": "execute_result"
    },
    {
     "data": {
      "image/png": "[encoded data removed]",
      "text/plain": [
       "<Figure size 432x432 with 3 Axes>"
      ]
     },
     "metadata": {
      "needs_background": "light"
     },
     "output_type": "display_data"
    }
   ],
   "source": [
    "sns.jointplot(x = 'log(shear rate) in s^-1', y = 'log(viscosity) in cP', data = df_temp_25, kind = 'reg')"
   ]
  },
  {
   "cell_type": "markdown",
   "metadata": {},
   "source": [
    "**Viscocity = shear stress/ shear rate**"
   ]
  },
  {
   "cell_type": "markdown",
   "metadata": {},
   "source": [
    "1. The relationship between viscocity and shear rate is an inverse relationship. From our visualization, we can see that our regression line describes an increasing shear rate with decreasing viscocity.\n",
    "\n",
    "\n",
    "\n",
    "2. From the two visualization above, the extreamly high viscocities have a very low shear rate"
   ]
  },
  {
   "cell_type": "code",
   "execution_count": 26,
   "metadata": {},
   "outputs": [
    {
     "data": {
      "text/plain": [
       "<seaborn.axisgrid.JointGrid at 0x7fc56ca5c128>"
      ]
     },
     "execution_count": 26,
     "metadata": {},
     "output_type": "execute_result"
    },
    {
     "data": {
      "image/png": "[encoded data removed]",
      "text/plain": [
       "<Figure size 432x432 with 3 Axes>"
      ]
     },
     "metadata": {
      "needs_background": "light"
     },
     "output_type": "display_data"
    }
   ],
   "source": [
    "sns.jointplot(x = 'Ca+2 concentration(wt%)', y = 'log(viscosity) in cP', data = df_temp_25, kind = 'reg')"
   ]
  },
  {
   "cell_type": "code",
   "execution_count": 28,
   "metadata": {},
   "outputs": [
    {
     "data": {
      "text/plain": [
       "<seaborn.axisgrid.JointGrid at 0x7fc56c856e10>"
      ]
     },
     "execution_count": 28,
     "metadata": {},
     "output_type": "execute_result"
    },
    {
     "data": {
      "image/png": "[encoded data removed]",
      "text/plain": [
       "<Figure size 432x432 with 3 Axes>"
      ]
     },
     "metadata": {
      "needs_background": "light"
     },
     "output_type": "display_data"
    }
   ],
   "source": [
    "sns.jointplot(x = 'NaCl concentration(wt%)', y = 'log(viscosity) in cP', data = df_temp_25, kind = 'reg')"
   ]
  },
  {
   "cell_type": "code",
   "execution_count": 29,
   "metadata": {},
   "outputs": [
    {
     "data": {
      "text/plain": [
       "<seaborn.axisgrid.JointGrid at 0x7fc56c72ada0>"
      ]
     },
     "execution_count": 29,
     "metadata": {},
     "output_type": "execute_result"
    },
    {
     "data": {
      "image/png": "[encoded data removed]",
      "text/plain": [
       "<Figure size 432x432 with 3 Axes>"
      ]
     },
     "metadata": {
      "needs_background": "light"
     },
     "output_type": "display_data"
    }
   ],
   "source": [
    "sns.jointplot(x = 'Polymer conc(wt%)', y = 'log(viscosity) in cP', data = df_temp_25, kind = 'reg')"
   ]
  },
  {
   "cell_type": "markdown",
   "metadata": {},
   "source": [
    "From the visualiztion of the regression relationship between the concentrations and their viscocity;\n",
    "\n",
    "1. The datapoints with high viscocities have low concentration of Nacl and Ca concentrations. As the concentrations increases the visocities drops.\n",
    "\n",
    "\n",
    "\n",
    "2. The polymer concentration is quite the opposite. As the concentration of the polymer increases, the viscocity increases. The extremely high  viscocities have high polymer concentrations."
   ]
  },
  {
   "cell_type": "markdown",
   "metadata": {},
   "source": [
    "## Overview of the EDA"
   ]
  },
  {
   "cell_type": "markdown",
   "metadata": {},
   "source": [
    "1. I was able to establish the relationship between viscocity and temparature, which is: viscocity increases with decreasing temparature\n",
    "\n",
    "2. For the observations recorded for 25 degree celcius:\n",
    "\n",
    "    I. High viscocities have low shear rate. The shear rate increases with decreasing viscocity.\n",
    "\n",
    "    II. With Increasing Nacl and Ca concentrations, viscocity reduces. Observations with high viscocities have low concentration \n",
    "\n",
    "    III. As the concentration of the polymer increases, the viscocity increases. The extremely high  viscocities have high polymer concentrations."
   ]
  },
  {
   "cell_type": "markdown",
   "metadata": {},
   "source": [
    "**what about the low viscocities with low shear rate and low Nacl, Ca concentrations ?**"
   ]
  }
 ],
 "metadata": {
  "kernelspec": {
   "display_name": "Python 3",
   "language": "python",
   "name": "python3"
  },
  "language_info": {
   "codemirror_mode": {
    "name": "ipython",
    "version": 3
   },
   "file_extension": ".py",
   "mimetype": "text/x-python",
   "name": "python",
   "nbconvert_exporter": "python",
   "pygments_lexer": "ipython3",
   "version": "3.6.9"
  }
 },
 "nbformat": 4,
 "nbformat_minor": 4
}
